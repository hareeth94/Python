{
 "cells": [
  {
   "cell_type": "code",
   "execution_count": 1,
   "metadata": {},
   "outputs": [],
   "source": [
    "import math"
   ]
  },
  {
   "cell_type": "code",
   "execution_count": 10,
   "metadata": {},
   "outputs": [
    {
     "name": "stdout",
     "output_type": "stream",
     "text": [
      "9\n",
      "3\n",
      "3\n"
     ]
    }
   ],
   "source": [
    "#prime factors of a no\n",
    "n = int(input())\n",
    "while(n%2==0):\n",
    "    print(\"2\")\n",
    "    n=n/2\n",
    "for i in range(3,int(math.sqrt(n))+1,2):\n",
    "    while(n%i==0):\n",
    "        print(i)\n",
    "        n=n/i\n",
    "if(n>2):\n",
    "    print(int(n))"
   ]
  },
  {
   "cell_type": "code",
   "execution_count": 17,
   "metadata": {},
   "outputs": [
    {
     "name": "stdout",
     "output_type": "stream",
     "text": [
      "10\n",
      "1010"
     ]
    }
   ],
   "source": [
    "#Decimal to Binary\n",
    "d = int(input())\n",
    "by = [0]*32\n",
    "i = 0\n",
    "while(d!=0):\n",
    "    by[i]= d%2\n",
    "    d=d//2\n",
    "    i+=1\n",
    "for j in range(i-1,-1,-1):\n",
    "    print(by[j],end=\"\")"
   ]
  },
  {
   "cell_type": "code",
   "execution_count": 18,
   "metadata": {},
   "outputs": [
    {
     "name": "stdout",
     "output_type": "stream",
     "text": [
      "5\n",
      "5\n",
      "10\n",
      "15\n",
      "20\n",
      "25\n"
     ]
    }
   ],
   "source": [
    "#multiplication table\n",
    "m = int(input())\n",
    "for i in range(1,6):\n",
    "    print(i*m)"
   ]
  },
  {
   "cell_type": "code",
   "execution_count": 19,
   "metadata": {},
   "outputs": [
    {
     "name": "stdout",
     "output_type": "stream",
     "text": [
      "enter 5 numbers3,5,4,6,9\n",
      "3\n",
      "5\n",
      "9\n"
     ]
    }
   ],
   "source": [
    "#odd no filtering\n",
    "list1 = [int(x) for x in input(\"enter 5 numbers\").split(',')]\n",
    "for i in range(0,5):\n",
    "    if(list1[i]%2!=0):\n",
    "        print(list1[i])"
   ]
  },
  {
   "cell_type": "code",
   "execution_count": 27,
   "metadata": {},
   "outputs": [
    {
     "name": "stdout",
     "output_type": "stream",
     "text": [
      "135ABC\n"
     ]
    }
   ],
   "source": [
    "st = 'C1B5A3'\n",
    "sorted_characters = sorted(st)\n",
    "st = \"\".join(sorted_characters)\n",
    "print(st)"
   ]
  },
  {
   "cell_type": "code",
   "execution_count": null,
   "metadata": {},
   "outputs": [],
   "source": []
  }
 ],
 "metadata": {
  "kernelspec": {
   "display_name": "Python 3",
   "language": "python",
   "name": "python3"
  },
  "language_info": {
   "codemirror_mode": {
    "name": "ipython",
    "version": 3
   },
   "file_extension": ".py",
   "mimetype": "text/x-python",
   "name": "python",
   "nbconvert_exporter": "python",
   "pygments_lexer": "ipython3",
   "version": "3.7.6"
  }
 },
 "nbformat": 4,
 "nbformat_minor": 4
}
